{
 "cells": [
  {
   "cell_type": "code",
   "execution_count": 36,
   "metadata": {
    "collapsed": false
   },
   "outputs": [
    {
     "name": "stdout",
     "output_type": "stream",
     "text": [
      "[ 290.015   291.105   291.9275 ...,  256.1725  257.7825  259.34  ]\n"
     ]
    }
   ],
   "source": [
    "'''\n",
    "Created on Mar 17, 2017\n",
    "\n",
    "@author: ashutosh\n",
    "'''\n",
    "from __future__ import (absolute_import, division, print_function,\n",
    "                        unicode_literals)\n",
    "import numpy as np\n",
    "#simple moving average\n",
    "def sma(prices, period):\n",
    "    num_prices = len(prices)\n",
    "\n",
    "    if num_prices < period:\n",
    "        # show error message\n",
    "        raise SystemExit('Error: num_prices < period')\n",
    "\n",
    "    sma_range = num_prices - period + 1\n",
    "\n",
    "    smas = np.zeros(sma_range)\n",
    "\n",
    "    # only required for the commented code below\n",
    "    #k = period\n",
    "\n",
    "    for idx in range(sma_range):\n",
    "        # this is the code, but using np.mean below is faster and simpler\n",
    "        #for period_num in range(period):\n",
    "        #    smas[idx] += prices[idx + period_num]\n",
    "        #smas[idx] /= k\n",
    "\n",
    "        smas[idx] = np.mean(prices[idx:idx + period])\n",
    "\n",
    "    return smas\n",
    "\n",
    "\n",
    "if __name__==\"__main__\": \n",
    "    mydata=pd.read_csv(\"SBIN.csv\")\n",
    "    prices=np.array(mydata['Close'])\n",
    "\n",
    "    sma=sma(prices,20)\n",
    "    print (sma)\n",
    "    "
   ]
  },
  {
   "cell_type": "code",
   "execution_count": 37,
   "metadata": {
    "collapsed": false
   },
   "outputs": [
    {
     "data": {
      "text/plain": [
       "4711"
      ]
     },
     "execution_count": 37,
     "metadata": {},
     "output_type": "execute_result"
    }
   ],
   "source": [
    "len(mydata)"
   ]
  },
  {
   "cell_type": "code",
   "execution_count": 38,
   "metadata": {
    "collapsed": false
   },
   "outputs": [
    {
     "data": {
      "text/plain": [
       "numpy.ndarray"
      ]
     },
     "execution_count": 38,
     "metadata": {},
     "output_type": "execute_result"
    }
   ],
   "source": [
    "type(sma)"
   ]
  },
  {
   "cell_type": "code",
   "execution_count": 39,
   "metadata": {
    "collapsed": false
   },
   "outputs": [
    {
     "data": {
      "text/plain": [
       "4692"
      ]
     },
     "execution_count": 39,
     "metadata": {},
     "output_type": "execute_result"
    }
   ],
   "source": [
    "len(sma)"
   ]
  },
  {
   "cell_type": "code",
   "execution_count": 40,
   "metadata": {
    "collapsed": false
   },
   "outputs": [
    {
     "name": "stdout",
     "output_type": "stream",
     "text": [
      "[ 290.015   291.105   291.9275 ...,  256.1725  257.7825  259.34  ]\n"
     ]
    }
   ],
   "source": [
    "print (sma)"
   ]
  },
  {
   "cell_type": "code",
   "execution_count": 43,
   "metadata": {
    "collapsed": false
   },
   "outputs": [
    {
     "name": "stdout",
     "output_type": "stream",
     "text": [
      "[ 297.075  297.8    299.2   ...,  272.575  275.275  278.525]\n"
     ]
    }
   ],
   "source": [
    "import matplotlib.pyplot as plt\n",
    "import numpy as np\n",
    "from sklearn import linear_model\n",
    "import pandas as pd\n",
    "import matplotlib.dates as mdates\n",
    "mydata=pd.read_csv(\"SBIN.csv\")\n",
    "mydata_x=mydata['Open'].values\n",
    "mydata_y=mydata['Close'].values\n",
    "avr=(mydata_x+mydata_y)/2\n",
    "\n",
    "avr=avr[19:]\n",
    "print (avr)\n"
   ]
  },
  {
   "cell_type": "code",
   "execution_count": 44,
   "metadata": {
    "collapsed": false
   },
   "outputs": [
    {
     "data": {
      "text/plain": [
       "4692"
      ]
     },
     "execution_count": 44,
     "metadata": {},
     "output_type": "execute_result"
    }
   ],
   "source": [
    "len(avr)"
   ]
  },
  {
   "cell_type": "code",
   "execution_count": 18,
   "metadata": {
    "collapsed": false
   },
   "outputs": [
    {
     "data": {
      "text/plain": [
       "4653"
      ]
     },
     "execution_count": 18,
     "metadata": {},
     "output_type": "execute_result"
    }
   ],
   "source": []
  },
  {
   "cell_type": "code",
   "execution_count": 45,
   "metadata": {
    "collapsed": false
   },
   "outputs": [
    {
     "data": {
      "text/plain": [
       "numpy.ndarray"
      ]
     },
     "execution_count": 45,
     "metadata": {},
     "output_type": "execute_result"
    }
   ],
   "source": [
    "type(avr)\n"
   ]
  },
  {
   "cell_type": "code",
   "execution_count": 46,
   "metadata": {
    "collapsed": true
   },
   "outputs": [],
   "source": [
    "#splitting the data into two sets training and testing dataset\n",
    "stock_x_train=avr[:-20]\n",
    "stock_x_test=avr[-20:]"
   ]
  },
  {
   "cell_type": "code",
   "execution_count": 47,
   "metadata": {
    "collapsed": true
   },
   "outputs": [],
   "source": [
    "#splitting the target into training and testing dataset\n",
    "stock_y_train=sma[:-20]\n",
    "stock_y_test=sma[-20:]"
   ]
  },
  {
   "cell_type": "code",
   "execution_count": 48,
   "metadata": {
    "collapsed": true
   },
   "outputs": [],
   "source": [
    "from sklearn import linear_model\n",
    "import pandas as pd\n",
    "import matplotlib.dates as mdates\n"
   ]
  },
  {
   "cell_type": "code",
   "execution_count": 49,
   "metadata": {
    "collapsed": true
   },
   "outputs": [],
   "source": [
    "#creating the linear regression object\n",
    "regr=linear_model.LinearRegression()\n",
    "#reshaping to remove depreciation error\n",
    "stock_x_train=stock_x_train.reshape(-1,1)\n",
    "stock_y_train=stock_y_train.reshape(-1,1)"
   ]
  },
  {
   "cell_type": "code",
   "execution_count": 50,
   "metadata": {
    "collapsed": false
   },
   "outputs": [
    {
     "data": {
      "text/plain": [
       "LinearRegression(copy_X=True, fit_intercept=True, n_jobs=1, normalize=False)"
      ]
     },
     "execution_count": 50,
     "metadata": {},
     "output_type": "execute_result"
    }
   ],
   "source": [
    "regr.fit(stock_x_train,stock_y_train)"
   ]
  },
  {
   "cell_type": "code",
   "execution_count": 51,
   "metadata": {
    "collapsed": false
   },
   "outputs": [
    {
     "name": "stdout",
     "output_type": "stream",
     "text": [
      "Coefficient is  [[ 0.98547162]]\n"
     ]
    }
   ],
   "source": [
    "print(\"Coefficient is \",regr.coef_)"
   ]
  },
  {
   "cell_type": "code",
   "execution_count": 52,
   "metadata": {
    "collapsed": true
   },
   "outputs": [],
   "source": [
    "stock_x_test=stock_x_test.reshape(-1,1)\n",
    "stock_y_test=stock_y_test.reshape(-1,1)"
   ]
  },
  {
   "cell_type": "code",
   "execution_count": 53,
   "metadata": {
    "collapsed": false
   },
   "outputs": [
    {
     "name": "stdout",
     "output_type": "stream",
     "text": [
      "Mean squared error: 362.35\n"
     ]
    }
   ],
   "source": [
    "#mean square error, it should be closer to zero for a good condition\n",
    "print(\"Mean squared error: %.2f\" % np.mean((regr.predict(stock_x_test) - stock_y_test) ** 2))"
   ]
  },
  {
   "cell_type": "code",
   "execution_count": 54,
   "metadata": {
    "collapsed": false
   },
   "outputs": [
    {
     "name": "stdout",
     "output_type": "stream",
     "text": [
      "Variance score: -39.31\n"
     ]
    }
   ],
   "source": [
    "# Explained variance score: 1 is perfect prediction\n",
    "print('Variance score: %.2f' % regr.score(stock_x_test, stock_y_test))"
   ]
  },
  {
   "cell_type": "code",
   "execution_count": 55,
   "metadata": {
    "collapsed": false
   },
   "outputs": [
    {
     "data": {
      "image/png": "[encoded data removed]",
      "text/plain": [
       "<matplotlib.figure.Figure at 0xb7af860>"
      ]
     },
     "metadata": {},
     "output_type": "display_data"
    }
   ],
   "source": [
    "#plotting the output\n",
    "plt.scatter(stock_x_test, stock_y_test, color='red')\n",
    "plt.plot(stock_x_test,regr.predict(stock_x_test),color='blue',linewidth=3)\n",
    "plt.xticks(())\n",
    "plt.yticks(())\n",
    "plt.show()"
   ]
  },
  {
   "cell_type": "code",
   "execution_count": null,
   "metadata": {
    "collapsed": true
   },
   "outputs": [],
   "source": []
  }
 ],
 "metadata": {
  "anaconda-cloud": {},
  "kernelspec": {
   "display_name": "Python [conda root]",
   "language": "python",
   "name": "conda-root-py"
  },
  "language_info": {
   "codemirror_mode": {
    "name": "ipython",
    "version": 2
   },
   "file_extension": ".py",
   "mimetype": "text/x-python",
   "name": "python",
   "nbconvert_exporter": "python",
   "pygments_lexer": "ipython2",
   "version": "2.7.12"
  }
 },
 "nbformat": 4,
 "nbformat_minor": 1
}
