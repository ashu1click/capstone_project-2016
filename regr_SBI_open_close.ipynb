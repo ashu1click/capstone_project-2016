{
 "cells": [
  {
   "cell_type": "markdown",
   "metadata": {},
   "source": [
    "Considering opening and closing parameters open as X and close as Y"
   ]
  },
  {
   "cell_type": "code",
   "execution_count": 2,
   "metadata": {
    "collapsed": false
   },
   "outputs": [],
   "source": [
    "import matplotlib.pyplot as plt\n",
    "import numpy as np\n",
    "from sklearn import linear_model\n",
    "import pandas as pd\n",
    "import matplotlib.dates as mdates\n",
    "mydata=pd.read_csv(\"SBIN.csv\")\n"
   ]
  },
  {
   "cell_type": "code",
   "execution_count": 5,
   "metadata": {
    "collapsed": false
   },
   "outputs": [
    {
     "name": "stdout",
     "output_type": "stream",
     "text": [
      "            Date    Open    High     Low    Last   Close  \\\n",
      "0      3/20/1998  275.40  278.80  273.30  276.80  276.80   \n",
      "1      3/23/1998  278.45  280.90  278.45  279.95  279.95   \n",
      "2      3/24/1998  282.00  288.40  280.00  282.25  284.35   \n",
      "3      3/25/1998  285.00  290.25  284.50  288.70  289.15   \n",
      "4      3/26/1998  289.00  289.00  280.10  281.75  281.70   \n",
      "5      3/27/1998  281.60  285.50  279.90  285.20  285.00   \n",
      "6      3/30/1998  285.85  287.00  279.10  279.50  279.80   \n",
      "7      3/31/1998  279.00  282.00  277.25  278.50  278.90   \n",
      "8       4/1/1998  281.00  287.55  281.00  287.55  286.75   \n",
      "9       4/2/1998  287.95  289.00  284.50  285.45  285.45   \n",
      "10      4/3/1998  287.90  293.90  286.10  293.40  291.75   \n",
      "11      4/6/1998  293.95  295.80  290.70  293.20  292.70   \n",
      "12      4/7/1998  292.45  302.20  291.00  302.20  298.60   \n",
      "13      4/9/1998  307.00  308.50  299.15  302.70  302.50   \n",
      "14     4/10/1998  301.20  306.00  299.30  301.70  301.45   \n",
      "15     4/13/1998  300.70  300.70  290.05  292.50  291.30   \n",
      "16     4/15/1998  299.50  305.40  299.00  303.50  303.65   \n",
      "17     4/16/1998  302.50  302.80  295.50  296.40  296.50   \n",
      "18     4/17/1998  296.40  298.50  293.75  298.00  297.85   \n",
      "19     4/20/1998  298.00  301.00  295.25  295.40  296.15   \n",
      "20     4/21/1998  297.00  300.75  296.10  298.60  298.60   \n",
      "21     4/22/1998  302.00  305.80  295.40  296.00  296.40   \n",
      "22     4/23/1998  296.00  297.90  290.10  291.20  291.40   \n",
      "23     4/24/1998  291.85  296.35  286.55  296.00  295.20   \n",
      "24     4/27/1998  296.00  297.20  292.55  294.70  293.95   \n",
      "25     4/28/1998  293.10  295.00  291.50  293.80  293.10   \n",
      "26     4/29/1998  298.00  300.50  285.50  285.95  286.70   \n",
      "27     4/30/1998  286.00  289.75  283.65  288.50  288.10   \n",
      "28      5/4/1998  288.85  292.00  287.50  288.80  289.25   \n",
      "29      5/5/1998  288.20  289.85  286.25  289.50  288.85   \n",
      "...          ...     ...     ...     ...     ...     ...   \n",
      "4681  12/26/2016  248.00  248.30  243.60  243.95  244.20   \n",
      "4682  12/27/2016  244.60  249.95  243.10  248.60  248.75   \n",
      "4683  12/28/2016  249.25  252.50  247.15  247.60  247.75   \n",
      "4684  12/29/2016  247.65  248.85  245.50  247.20  247.65   \n",
      "4685  12/30/2016  247.75  252.30  247.25  250.30  250.20   \n",
      "4686    1/2/2017  252.50  253.65  242.60  243.55  243.60   \n",
      "4687    1/3/2017  244.00  246.40  241.10  244.90  244.90   \n",
      "4688    1/4/2017  245.80  246.40  242.20  243.20  242.90   \n",
      "4689    1/5/2017  245.00  245.90  243.70  245.50  245.35   \n",
      "4690    1/6/2017  246.00  249.00  245.50  246.05  245.90   \n",
      "4691    1/9/2017  246.40  248.35  246.00  246.70  247.05   \n",
      "4692   1/10/2017  247.70  249.00  246.40  248.90  248.30   \n",
      "4693   1/11/2017  249.65  253.20  249.00  251.70  252.15   \n",
      "4694   1/12/2017  252.90  254.45  250.55  251.15  251.25   \n",
      "4695   1/13/2017  252.00  252.60  249.10  251.00  250.90   \n",
      "4696   1/16/2017  251.05  256.40  250.70  256.40  255.75   \n",
      "4697   1/17/2017  257.45  258.65  254.40  255.90  256.00   \n",
      "4698   1/18/2017  257.10  259.30  256.60  258.30  258.35   \n",
      "4699   1/19/2017  257.20  262.00  256.50  258.05  258.40   \n",
      "4700   1/20/2017  258.50  260.50  250.30  251.20  251.05   \n",
      "4701   1/23/2017  251.00  255.20  250.10  254.80  254.15   \n",
      "4702   1/24/2017  255.10  257.00  254.00  254.60  254.90   \n",
      "4703   1/25/2017  255.55  261.00  254.20  259.85  259.20   \n",
      "4704   1/27/2017  260.30  268.20  259.50  266.50  266.45   \n",
      "4705   1/30/2017  265.85  267.90  263.40  263.85  263.95   \n",
      "4706   1/31/2017  261.15  263.85  259.65  260.00  260.35   \n",
      "4707    2/1/2017  262.00  271.90  261.60  271.40  270.70   \n",
      "4708    2/2/2017  271.85  275.00  268.70  272.75  273.30   \n",
      "4709    2/3/2017  273.00  278.55  272.00  278.10  277.55   \n",
      "4710    2/6/2017  280.00  282.50  276.00  276.55  277.05   \n",
      "\n",
      "      Total Trade Quantity  Turnover (Lacs)  \n",
      "0                  4876000         14000.23  \n",
      "1                   591700          1654.91  \n",
      "2                  4979900         14231.55  \n",
      "3                  3632600         10436.93  \n",
      "4                  3861750         10996.67  \n",
      "5                  3239100          9165.65  \n",
      "6                  2641600          7476.52  \n",
      "7                  3657200         10228.23  \n",
      "8                  2944250          8390.50  \n",
      "9                  2799350          8028.30  \n",
      "10                 4212750         12185.94  \n",
      "11                 2731800          7990.80  \n",
      "12                 5030250         14969.13  \n",
      "13                 5037000         15286.56  \n",
      "14                 5613900         16998.55  \n",
      "15                 4659250         13677.77  \n",
      "16                 5776850         17482.50  \n",
      "17                 3779950         11302.23  \n",
      "18                 3082800          9131.07  \n",
      "19                 3401250         10168.01  \n",
      "20                 3755350         11211.33  \n",
      "21                 3559200         10716.29  \n",
      "22                 2936600          8644.24  \n",
      "23                 4424400         12913.70  \n",
      "24                 2846750          8398.42  \n",
      "25                 2760200          8084.92  \n",
      "26                 6277550         18337.43  \n",
      "27                 3092300          8869.25  \n",
      "28                 1870550          5414.28  \n",
      "29                 2645100          7625.15  \n",
      "...                    ...              ...  \n",
      "4681               8592983         21085.09  \n",
      "4682               8756536         21507.81  \n",
      "4683              11747088         29299.95  \n",
      "4684              10658616         26374.35  \n",
      "4685              10538497         26407.50  \n",
      "4686              25988990         63621.68  \n",
      "4687              15963085         39035.56  \n",
      "4688              11225978         27386.51  \n",
      "4689              11970913         29322.09  \n",
      "4690              12354302         30527.14  \n",
      "4691               8329253         20580.77  \n",
      "4692               9352013         23159.27  \n",
      "4693              13415303         33713.63  \n",
      "4694              11282323         28466.91  \n",
      "4695               9333736         23415.03  \n",
      "4696              13234727         33679.89  \n",
      "4697               9480201         24354.03  \n",
      "4698               8048897         20771.01  \n",
      "4699              13029151         33766.41  \n",
      "4700              15341756         39112.67  \n",
      "4701               9339939         23690.80  \n",
      "4702              13540202         34599.54  \n",
      "4703              16343545         41951.60  \n",
      "4704              18039379         47772.71  \n",
      "4705              11884795         31559.51  \n",
      "4706               8899165         23259.50  \n",
      "4707              27253142         72845.39  \n",
      "4708              20139955         54870.70  \n",
      "4709              15366890         42477.16  \n",
      "4710              14725291         41151.06  \n",
      "\n",
      "[4711 rows x 8 columns]\n"
     ]
    }
   ],
   "source": [
    "print mydata"
   ]
  },
  {
   "cell_type": "code",
   "execution_count": 6,
   "metadata": {
    "collapsed": true
   },
   "outputs": [],
   "source": [
    "mydata_x=mydata['Open'].values\n",
    "mydata_y=mydata['Close'].values\n"
   ]
  },
  {
   "cell_type": "code",
   "execution_count": 7,
   "metadata": {
    "collapsed": false
   },
   "outputs": [
    {
     "data": {
      "text/plain": [
       "numpy.ndarray"
      ]
     },
     "execution_count": 7,
     "metadata": {},
     "output_type": "execute_result"
    }
   ],
   "source": [
    "type(mydata_x)"
   ]
  },
  {
   "cell_type": "code",
   "execution_count": 8,
   "metadata": {
    "collapsed": false
   },
   "outputs": [
    {
     "data": {
      "text/plain": [
       "numpy.ndarray"
      ]
     },
     "execution_count": 8,
     "metadata": {},
     "output_type": "execute_result"
    }
   ],
   "source": [
    "type(mydata_y)"
   ]
  },
  {
   "cell_type": "code",
   "execution_count": 9,
   "metadata": {
    "collapsed": true
   },
   "outputs": [],
   "source": [
    "#splitting the data into two sets training and testing dataset\n",
    "stock_x_train=mydata_x[:-20]\n",
    "stock_x_test=mydata_x[-20:]"
   ]
  },
  {
   "cell_type": "code",
   "execution_count": 10,
   "metadata": {
    "collapsed": true
   },
   "outputs": [],
   "source": [
    "#splitting the target into training and testing dataset\n",
    "stock_y_train=mydata_y[:-20]\n",
    "stock_y_test=mydata_y[-20:]"
   ]
  },
  {
   "cell_type": "code",
   "execution_count": 11,
   "metadata": {
    "collapsed": true
   },
   "outputs": [],
   "source": [
    "#creating the linear regression object\n",
    "regr=linear_model.LinearRegression()\n",
    "#reshaping to remove depreciation error\n",
    "stock_x_train=stock_x_train.reshape(-1,1)\n",
    "stock_y_train=stock_y_train.reshape(-1,1)"
   ]
  },
  {
   "cell_type": "code",
   "execution_count": 12,
   "metadata": {
    "collapsed": false
   },
   "outputs": [
    {
     "data": {
      "text/plain": [
       "LinearRegression(copy_X=True, fit_intercept=True, n_jobs=1, normalize=False)"
      ]
     },
     "execution_count": 12,
     "metadata": {},
     "output_type": "execute_result"
    }
   ],
   "source": [
    "regr.fit(stock_x_train,stock_y_train)"
   ]
  },
  {
   "cell_type": "code",
   "execution_count": 13,
   "metadata": {
    "collapsed": false
   },
   "outputs": [
    {
     "data": {
      "text/plain": [
       "4691"
      ]
     },
     "execution_count": 13,
     "metadata": {},
     "output_type": "execute_result"
    }
   ],
   "source": [
    "len(stock_x_train)"
   ]
  },
  {
   "cell_type": "code",
   "execution_count": 14,
   "metadata": {
    "collapsed": false
   },
   "outputs": [
    {
     "data": {
      "text/plain": [
       "4691"
      ]
     },
     "execution_count": 14,
     "metadata": {},
     "output_type": "execute_result"
    }
   ],
   "source": [
    "len(stock_y_train)"
   ]
  },
  {
   "cell_type": "code",
   "execution_count": 15,
   "metadata": {
    "collapsed": false
   },
   "outputs": [
    {
     "name": "stdout",
     "output_type": "stream",
     "text": [
      "('Coefficient is ', array([[ 0.99807296]]))\n"
     ]
    }
   ],
   "source": [
    "print(\"Coefficient is \",regr.coef_)"
   ]
  },
  {
   "cell_type": "code",
   "execution_count": 16,
   "metadata": {
    "collapsed": true
   },
   "outputs": [],
   "source": [
    "stock_x_test=stock_x_test.reshape(-1,1)\n",
    "stock_y_test=stock_y_test.reshape(-1,1)"
   ]
  },
  {
   "cell_type": "code",
   "execution_count": 17,
   "metadata": {
    "collapsed": false
   },
   "outputs": [
    {
     "name": "stdout",
     "output_type": "stream",
     "text": [
      "Mean squared error: 13.09\n"
     ]
    }
   ],
   "source": [
    "#mean square error, it should be closer to zero for a good condition\n",
    "print(\"Mean squared error: %.2f\" % np.mean((regr.predict(stock_x_test) - stock_y_test) ** 2))"
   ]
  },
  {
   "cell_type": "code",
   "execution_count": 18,
   "metadata": {
    "collapsed": false
   },
   "outputs": [
    {
     "name": "stdout",
     "output_type": "stream",
     "text": [
      "Variance score: 0.84\n"
     ]
    }
   ],
   "source": [
    "# Explained variance score: 1 is perfect prediction\n",
    "print('Variance score: %.2f' % regr.score(stock_x_test, stock_y_test))"
   ]
  },
  {
   "cell_type": "code",
   "execution_count": 19,
   "metadata": {
    "collapsed": false
   },
   "outputs": [
    {
     "data": {
      "image/png": "[encoded data removed]",
      "text/plain": [
       "<matplotlib.figure.Figure at 0xbcc3b00>"
      ]
     },
     "metadata": {},
     "output_type": "display_data"
    }
   ],
   "source": [
    "#plotting the output\n",
    "plt.scatter(stock_x_test, stock_y_test, color='red')\n",
    "plt.plot(stock_x_test,regr.predict(stock_x_test),color='blue',linewidth=3)\n",
    "plt.xticks(())\n",
    "plt.yticks(())\n",
    "plt.show()"
   ]
  }
 ],
 "metadata": {
  "anaconda-cloud": {},
  "kernelspec": {
   "display_name": "Python [conda root]",
   "language": "python",
   "name": "conda-root-py"
  },
  "language_info": {
   "codemirror_mode": {
    "name": "ipython",
    "version": 2
   },
   "file_extension": ".py",
   "mimetype": "text/x-python",
   "name": "python",
   "nbconvert_exporter": "python",
   "pygments_lexer": "ipython2",
   "version": "2.7.12"
  }
 },
 "nbformat": 4,
 "nbformat_minor": 1
}
