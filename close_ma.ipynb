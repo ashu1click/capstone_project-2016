{
 "cells": [
  {
   "cell_type": "markdown",
   "metadata": {},
   "source": [
    "# considering closing price and moving average"
   ]
  },
  {
   "cell_type": "code",
   "execution_count": 2,
   "metadata": {
    "collapsed": false
   },
   "outputs": [
    {
     "name": "stdout",
     "output_type": "stream",
     "text": [
      "[ 290.015   291.105   291.9275 ...,  256.1725  257.7825  259.34  ]\n"
     ]
    }
   ],
   "source": [
    "from __future__ import (absolute_import, division, print_function,\n",
    " \n",
    "                        unicode_literals)\n",
    "import pandas as pd\n",
    "import numpy as np\n",
    "#simple moving average\n",
    "def sma(prices, period):\n",
    "    num_prices = len(prices)\n",
    "\n",
    "    if num_prices < period:\n",
    "        # show error message\n",
    "        raise SystemExit('Error: num_prices < period')\n",
    "\n",
    "    sma_range = num_prices - period + 1\n",
    "\n",
    "    smas = np.zeros(sma_range)\n",
    "\n",
    "    # only required for the commented code below\n",
    "    #k = period\n",
    "\n",
    "    for idx in range(sma_range):\n",
    "        # this is the code, but using np.mean below is faster and simpler\n",
    "        #for period_num in range(period):\n",
    "        #    smas[idx] += prices[idx + period_num]\n",
    "        #smas[idx] /= k\n",
    "\n",
    "        smas[idx] = np.mean(prices[idx:idx + period])\n",
    "\n",
    "    return smas\n",
    "\n",
    "\n",
    "if __name__==\"__main__\": \n",
    "    mydata=pd.read_csv(\"SBIN.csv\")\n",
    "    prices=np.array(mydata['Close'])\n",
    "\n",
    "    sma=sma(prices,20)\n",
    "    print (sma)\n"
   ]
  },
  {
   "cell_type": "code",
   "execution_count": 9,
   "metadata": {
    "collapsed": false
   },
   "outputs": [
    {
     "name": "stdout",
     "output_type": "stream",
     "text": [
      "[ 296.15  298.6   296.4  ...,  273.3   277.55  277.05]\n"
     ]
    }
   ],
   "source": [
    "import matplotlib.pyplot as plt\n",
    "import numpy as np\n",
    "from sklearn import linear_model\n",
    "import pandas as pd\n",
    "import matplotlib.dates as mdates\n",
    "mydata=pd.read_csv(\"SBIN.csv\")\n",
    "close=mydata['Close'].values\n",
    "\n",
    "close=close[19:]\n",
    "print (close)"
   ]
  },
  {
   "cell_type": "code",
   "execution_count": 10,
   "metadata": {
    "collapsed": false
   },
   "outputs": [
    {
     "data": {
      "text/plain": [
       "4692"
      ]
     },
     "execution_count": 10,
     "metadata": {},
     "output_type": "execute_result"
    }
   ],
   "source": [
    "len(close)"
   ]
  },
  {
   "cell_type": "code",
   "execution_count": 5,
   "metadata": {
    "collapsed": false
   },
   "outputs": [
    {
     "data": {
      "text/plain": [
       "4692"
      ]
     },
     "execution_count": 5,
     "metadata": {},
     "output_type": "execute_result"
    }
   ],
   "source": [
    "len(sma)"
   ]
  },
  {
   "cell_type": "code",
   "execution_count": 11,
   "metadata": {
    "collapsed": true
   },
   "outputs": [],
   "source": [
    "#importing module for machine learning\n",
    "from sklearn import linear_model\n",
    "import pandas as pd\n",
    "import matplotlib.dates as mdates"
   ]
  },
  {
   "cell_type": "code",
   "execution_count": 13,
   "metadata": {
    "collapsed": false
   },
   "outputs": [],
   "source": [
    "#splitting the data into two sets training and testing dataset\n",
    "stock_x_train=close[:-20]\n",
    "stock_x_test=close[-20:]"
   ]
  },
  {
   "cell_type": "code",
   "execution_count": 14,
   "metadata": {
    "collapsed": true
   },
   "outputs": [],
   "source": [
    "#splitting the target into training and testing dataset\n",
    "stock_y_train=sma[:-20]\n",
    "stock_y_test=sma[-20:]"
   ]
  },
  {
   "cell_type": "code",
   "execution_count": 15,
   "metadata": {
    "collapsed": true
   },
   "outputs": [],
   "source": [
    "#creating the linear regression object\n",
    "regr=linear_model.LinearRegression()\n",
    "#reshaping to remove depreciation error\n",
    "stock_x_train=stock_x_train.reshape(-1,1)\n",
    "stock_y_train=stock_y_train.reshape(-1,1)"
   ]
  },
  {
   "cell_type": "code",
   "execution_count": 16,
   "metadata": {
    "collapsed": false
   },
   "outputs": [
    {
     "data": {
      "text/plain": [
       "LinearRegression(copy_X=True, fit_intercept=True, n_jobs=1, normalize=False)"
      ]
     },
     "execution_count": 16,
     "metadata": {},
     "output_type": "execute_result"
    }
   ],
   "source": [
    "regr.fit(stock_x_train,stock_y_train)"
   ]
  },
  {
   "cell_type": "code",
   "execution_count": 17,
   "metadata": {
    "collapsed": false
   },
   "outputs": [
    {
     "name": "stdout",
     "output_type": "stream",
     "text": [
      "Coefficient is  [[ 0.98563086]]\n"
     ]
    }
   ],
   "source": [
    "print(\"Coefficient is \",regr.coef_)"
   ]
  },
  {
   "cell_type": "code",
   "execution_count": 18,
   "metadata": {
    "collapsed": true
   },
   "outputs": [],
   "source": [
    "stock_x_test=stock_x_test.reshape(-1,1)\n",
    "stock_y_test=stock_y_test.reshape(-1,1)"
   ]
  },
  {
   "cell_type": "code",
   "execution_count": 19,
   "metadata": {
    "collapsed": false
   },
   "outputs": [
    {
     "name": "stdout",
     "output_type": "stream",
     "text": [
      "Mean squared error: 408.53\n"
     ]
    }
   ],
   "source": [
    "#mean square error, it should be closer to zero for a good condition\n",
    "print(\"Mean squared error: %.2f\" % np.mean((regr.predict(stock_x_test) - stock_y_test) ** 2))"
   ]
  },
  {
   "cell_type": "code",
   "execution_count": 20,
   "metadata": {
    "collapsed": false
   },
   "outputs": [
    {
     "name": "stdout",
     "output_type": "stream",
     "text": [
      "Variance score: -44.44\n"
     ]
    }
   ],
   "source": [
    "# Explained variance score: 1 is perfect prediction\n",
    "print('Variance score: %.2f' % regr.score(stock_x_test, stock_y_test))"
   ]
  },
  {
   "cell_type": "code",
   "execution_count": 21,
   "metadata": {
    "collapsed": false
   },
   "outputs": [
    {
     "data": {
      "image/png": "[encoded data removed]",
      "text/plain": [
       "<matplotlib.figure.Figure at 0x83c5470>"
      ]
     },
     "metadata": {},
     "output_type": "display_data"
    }
   ],
   "source": [
    "#plotting the output\n",
    "plt.scatter(stock_x_test, stock_y_test, color='red')\n",
    "plt.plot(stock_x_test,regr.predict(stock_x_test),color='blue',linewidth=3)\n",
    "plt.xticks(())\n",
    "plt.yticks(())\n",
    "plt.show()\n"
   ]
  }
 ],
 "metadata": {
  "anaconda-cloud": {},
  "kernelspec": {
   "display_name": "Python [conda root]",
   "language": "python",
   "name": "conda-root-py"
  },
  "language_info": {
   "codemirror_mode": {
    "name": "ipython",
    "version": 2
   },
   "file_extension": ".py",
   "mimetype": "text/x-python",
   "name": "python",
   "nbconvert_exporter": "python",
   "pygments_lexer": "ipython2",
   "version": "2.7.12"
  }
 },
 "nbformat": 4,
 "nbformat_minor": 1
}
