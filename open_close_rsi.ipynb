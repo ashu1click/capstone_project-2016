{
 "cells": [
  {
   "cell_type": "code",
   "execution_count": 2,
   "metadata": {
    "collapsed": false
   },
   "outputs": [
    {
     "name": "stdout",
     "output_type": "stream",
     "text": [
      "[ 61.89956332  60.3732347   57.01016054 ...,  62.82154064  65.13445898\n",
      "  64.63648789]\n"
     ]
    }
   ],
   "source": [
    "from __future__ import (absolute_import, division, print_function,\n",
    "                        unicode_literals)\n",
    "import pandas as pd\n",
    "import numpy as np\n",
    "def rsi(prices, period=14):\n",
    "    \n",
    "    num_prices = len(prices)\n",
    "\n",
    "    if num_prices < period:\n",
    "        # show error message\n",
    "        raise SystemExit('Error: num_prices < period')\n",
    "\n",
    "    # this could be named gains/losses to save time/memory in the future\n",
    "    changes = prices[1:] - prices[:-1]\n",
    "    #num_changes = len(changes)\n",
    "\n",
    "    rsi_range = num_prices - period\n",
    "\n",
    "    rsis = np.zeros(rsi_range)\n",
    "\n",
    "    gains = np.array(changes)\n",
    "    # assign 0 to all negative values\n",
    "    masked_gains = gains < 0\n",
    "    gains[masked_gains] = 0\n",
    "\n",
    "    losses = np.array(changes)\n",
    "    # assign 0 to all positive values\n",
    "    masked_losses = losses > 0\n",
    "    losses[masked_losses] = 0\n",
    "    # convert all negatives into positives\n",
    "    losses *= -1\n",
    "\n",
    "    avg_gain = np.mean(gains[:period])\n",
    "    avg_loss = np.mean(losses[:period])\n",
    "\n",
    "    if avg_loss == 0:\n",
    "        rsis[0] = 100\n",
    "    else:\n",
    "        rs = avg_gain / avg_loss\n",
    "        rsis[0] = 100 - (100 / (1 + rs))\n",
    "\n",
    "    for idx in range(1, rsi_range):\n",
    "        avg_gain = ((avg_gain * (period - 1) + gains[idx + (period - 1)]) /\n",
    "                    period)\n",
    "        avg_loss = ((avg_loss * (period - 1) + losses[idx + (period - 1)]) /\n",
    "                    period)\n",
    "\n",
    "        if avg_loss == 0:\n",
    "            rsis[idx] = 100\n",
    "        else:\n",
    "            rs = avg_gain / avg_loss\n",
    "            rsis[idx] = 100 - (100 / (1 + rs))\n",
    "\n",
    "    return rsis\n",
    "if __name__==\"__main__\": \n",
    "    mydata=pd.read_csv(\"SBIN.csv\")\n",
    "    prices=np.array(mydata['Close'])\n",
    "\n",
    "    rsi=rsi(prices,20)\n",
    "    print (rsi)\n",
    "    "
   ]
  },
  {
   "cell_type": "code",
   "execution_count": 3,
   "metadata": {
    "collapsed": false
   },
   "outputs": [
    {
     "data": {
      "text/plain": [
       "4691"
      ]
     },
     "execution_count": 3,
     "metadata": {},
     "output_type": "execute_result"
    }
   ],
   "source": [
    "len(rsi)"
   ]
  },
  {
   "cell_type": "code",
   "execution_count": 9,
   "metadata": {
    "collapsed": false
   },
   "outputs": [
    {
     "name": "stdout",
     "output_type": "stream",
     "text": [
      "[ 297.8    299.2    293.7   ...,  272.575  275.275  278.525]\n"
     ]
    }
   ],
   "source": [
    "import matplotlib.pyplot as plt\n",
    "import numpy as np\n",
    "from sklearn import linear_model\n",
    "import pandas as pd\n",
    "import matplotlib.dates as mdates\n",
    "mydata=pd.read_csv(\"SBIN.csv\")\n",
    "mydata_x=mydata['Open'].values\n",
    "mydata_y=mydata['Close'].values\n",
    "avr=(mydata_x+mydata_y)/2\n",
    "avr=avr[20:]\n",
    "\n",
    "print (avr)"
   ]
  },
  {
   "cell_type": "code",
   "execution_count": 10,
   "metadata": {
    "collapsed": false
   },
   "outputs": [
    {
     "data": {
      "text/plain": [
       "4691"
      ]
     },
     "execution_count": 10,
     "metadata": {},
     "output_type": "execute_result"
    }
   ],
   "source": [
    "len(avr)"
   ]
  },
  {
   "cell_type": "code",
   "execution_count": 11,
   "metadata": {
    "collapsed": true
   },
   "outputs": [],
   "source": [
    "#splitting the data into two sets training and testing dataset\n",
    "stock_x_train=avr[:-20]\n",
    "stock_x_test=avr[-20:]"
   ]
  },
  {
   "cell_type": "code",
   "execution_count": 13,
   "metadata": {
    "collapsed": false
   },
   "outputs": [],
   "source": [
    "#splitting the target into training and testing dataset\n",
    "stock_y_train=rsi[:-20]\n",
    "stock_y_test=rsi[-20:]"
   ]
  },
  {
   "cell_type": "code",
   "execution_count": 14,
   "metadata": {
    "collapsed": true
   },
   "outputs": [],
   "source": [
    "from sklearn import linear_model\n",
    "import pandas as pd\n",
    "import matplotlib.dates as mdates\n"
   ]
  },
  {
   "cell_type": "code",
   "execution_count": 15,
   "metadata": {
    "collapsed": true
   },
   "outputs": [],
   "source": [
    "#creating the linear regression object\n",
    "regr=linear_model.LinearRegression()\n",
    "#reshaping to remove depreciation error\n",
    "stock_x_train=stock_x_train.reshape(-1,1)\n",
    "stock_y_train=stock_y_train.reshape(-1,1)"
   ]
  },
  {
   "cell_type": "code",
   "execution_count": 16,
   "metadata": {
    "collapsed": false
   },
   "outputs": [
    {
     "data": {
      "text/plain": [
       "LinearRegression(copy_X=True, fit_intercept=True, n_jobs=1, normalize=False)"
      ]
     },
     "execution_count": 16,
     "metadata": {},
     "output_type": "execute_result"
    }
   ],
   "source": [
    "regr.fit(stock_x_train,stock_y_train)\n"
   ]
  },
  {
   "cell_type": "code",
   "execution_count": 17,
   "metadata": {
    "collapsed": false
   },
   "outputs": [
    {
     "name": "stdout",
     "output_type": "stream",
     "text": [
      "Coefficient is  [[ 0.00182275]]\n"
     ]
    }
   ],
   "source": [
    "print(\"Coefficient is \",regr.coef_)"
   ]
  },
  {
   "cell_type": "code",
   "execution_count": 18,
   "metadata": {
    "collapsed": true
   },
   "outputs": [],
   "source": [
    "stock_x_test=stock_x_test.reshape(-1,1)\n",
    "stock_y_test=stock_y_test.reshape(-1,1)"
   ]
  },
  {
   "cell_type": "code",
   "execution_count": 19,
   "metadata": {
    "collapsed": false
   },
   "outputs": [
    {
     "name": "stdout",
     "output_type": "stream",
     "text": [
      "Mean squared error: 57.25\n"
     ]
    }
   ],
   "source": [
    "#mean square error, it should be closer to zero for a good condition\n",
    "print(\"Mean squared error: %.2f\" % np.mean((regr.predict(stock_x_test) - stock_y_test) ** 2))"
   ]
  },
  {
   "cell_type": "code",
   "execution_count": 20,
   "metadata": {
    "collapsed": false
   },
   "outputs": [
    {
     "name": "stdout",
     "output_type": "stream",
     "text": [
      "Variance score: -0.57\n"
     ]
    }
   ],
   "source": [
    "# Explained variance score: 1 is perfect prediction\n",
    "print('Variance score: %.2f' % regr.score(stock_x_test, stock_y_test))"
   ]
  },
  {
   "cell_type": "code",
   "execution_count": 21,
   "metadata": {
    "collapsed": false
   },
   "outputs": [
    {
     "data": {
      "image/png": "[encoded data removed]",
      "text/plain": [
       "<matplotlib.figure.Figure at 0x471ada0>"
      ]
     },
     "metadata": {},
     "output_type": "display_data"
    }
   ],
   "source": [
    "#plotting the output\n",
    "plt.scatter(stock_x_test, stock_y_test, color='red')\n",
    "plt.plot(stock_x_test,regr.predict(stock_x_test),color='blue',linewidth=3)\n",
    "plt.xticks(())\n",
    "plt.yticks(())\n",
    "plt.show()"
   ]
  }
 ],
 "metadata": {
  "kernelspec": {
   "display_name": "Python [conda root]",
   "language": "python",
   "name": "conda-root-py"
  },
  "language_info": {
   "codemirror_mode": {
    "name": "ipython",
    "version": 2
   },
   "file_extension": ".py",
   "mimetype": "text/x-python",
   "name": "python",
   "nbconvert_exporter": "python",
   "pygments_lexer": "ipython2",
   "version": "2.7.12"
  }
 },
 "nbformat": 4,
 "nbformat_minor": 1
}
